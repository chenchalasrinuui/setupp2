{
 "cells": [
  {
   "cell_type": "markdown",
   "id": "d60af0e8",
   "metadata": {},
   "source": [
    "# Sequential Execution"
   ]
  },
  {
   "cell_type": "code",
   "execution_count": 2,
   "id": "9c610034",
   "metadata": {},
   "outputs": [
    {
     "name": "stdout",
     "output_type": "stream",
     "text": [
      "one\n",
      "two\n",
      "three\n"
     ]
    }
   ],
   "source": [
    "print('one')\n",
    "print('two')\n",
    "print('three')"
   ]
  },
  {
   "cell_type": "markdown",
   "id": "f201c3d4",
   "metadata": {},
   "source": [
    "# Conditional Execution"
   ]
  },
  {
   "cell_type": "code",
   "execution_count": 8,
   "id": "eadd7b29",
   "metadata": {},
   "outputs": [
    {
     "name": "stdout",
     "output_type": "stream",
     "text": [
      "Start\n",
      "This is Sachin, I am Mumbai\n",
      "End\n"
     ]
    }
   ],
   "source": [
    "name='Sachin'\n",
    "if name=='Sachin':\n",
    "    print('Start')\n",
    "    print('This is Sachin, I am Mumbai')\n",
    "    print(\"End\")\n",
    "    \n"
   ]
  },
  {
   "cell_type": "code",
   "execution_count": 11,
   "id": "e1acb3e3",
   "metadata": {},
   "outputs": [],
   "source": [
    "x=100"
   ]
  },
  {
   "cell_type": "code",
   "execution_count": 12,
   "id": "169de6aa",
   "metadata": {},
   "outputs": [
    {
     "name": "stdout",
     "output_type": "stream",
     "text": [
      "x value is not 10\n"
     ]
    }
   ],
   "source": [
    "if x==10:\n",
    "    print(\"x value is 10\")\n",
    "else:\n",
    "    print('x value is not 10')"
   ]
  },
  {
   "cell_type": "code",
   "execution_count": 14,
   "id": "0582778c",
   "metadata": {},
   "outputs": [
    {
     "name": "stdout",
     "output_type": "stream",
     "text": [
      "20 is the biggest\n"
     ]
    }
   ],
   "source": [
    "i=10\n",
    "j=20\n",
    "\n",
    "if i>j:\n",
    "    print(i,'is the biggest')\n",
    "else:\n",
    "    print(j,'is the biggest')"
   ]
  },
  {
   "cell_type": "code",
   "execution_count": 19,
   "id": "749f5bae",
   "metadata": {},
   "outputs": [
    {
     "name": "stdout",
     "output_type": "stream",
     "text": [
      "220 is the biggest\n"
     ]
    }
   ],
   "source": [
    "p=300\n",
    "q=420\n",
    "no=p\n",
    "if no < q:\n",
    "    no=q\n",
    "print(no, 'is the biggest')"
   ]
  },
  {
   "cell_type": "code",
   "execution_count": 29,
   "id": "f6db8422",
   "metadata": {},
   "outputs": [],
   "source": [
    "l=13434"
   ]
  },
  {
   "cell_type": "code",
   "execution_count": 31,
   "id": "4c242192",
   "metadata": {},
   "outputs": [
    {
     "name": "stdout",
     "output_type": "stream",
     "text": [
      "... gt 3\n"
     ]
    }
   ],
   "source": [
    "if l==0:\n",
    "    print('...0')\n",
    "elif l==1:\n",
    "    print('...1')\n",
    "elif l==2:\n",
    "    print('...2')\n",
    "elif l==3:\n",
    "    print('...3')\n",
    "else:\n",
    "    print('... gt 3')\n"
   ]
  },
  {
   "cell_type": "markdown",
   "id": "019a7498",
   "metadata": {},
   "source": [
    "# Looping"
   ]
  },
  {
   "cell_type": "code",
   "execution_count": 36,
   "id": "9a0791b9",
   "metadata": {},
   "outputs": [],
   "source": [
    "r=1"
   ]
  },
  {
   "cell_type": "code",
   "execution_count": 37,
   "id": "ff087a08",
   "metadata": {},
   "outputs": [
    {
     "name": "stdout",
     "output_type": "stream",
     "text": [
      "1\n",
      "2\n",
      "3\n",
      "4\n",
      "5\n"
     ]
    }
   ],
   "source": [
    "while r<=5:\n",
    "    print(r)\n",
    "    r=r+1"
   ]
  },
  {
   "cell_type": "code",
   "execution_count": 38,
   "id": "f1a9b226",
   "metadata": {},
   "outputs": [
    {
     "name": "stdout",
     "output_type": "stream",
     "text": [
      "Sachin\n",
      "Dhoni\n",
      "Kohli\n"
     ]
    }
   ],
   "source": [
    "players=['Sachin','Dhoni','Kohli']\n",
    "\n",
    "for player in players:\n",
    "    print(player)"
   ]
  },
  {
   "cell_type": "code",
   "execution_count": 40,
   "id": "671c998a",
   "metadata": {},
   "outputs": [
    {
     "name": "stdout",
     "output_type": "stream",
     "text": [
      "1\n",
      "2\n",
      "3\n",
      "4\n",
      "5\n",
      "6\n"
     ]
    }
   ],
   "source": [
    "digits=[[1,2,3],[4,5,6]]\n",
    "\n",
    "for v in digits:\n",
    "    for d  in v:\n",
    "        print(d)\n",
    "    \n"
   ]
  },
  {
   "cell_type": "code",
   "execution_count": 44,
   "id": "93acfa5a",
   "metadata": {},
   "outputs": [
    {
     "name": "stdout",
     "output_type": "stream",
     "text": [
      "1\n",
      "2\n",
      "3\n",
      "4\n",
      "5\n"
     ]
    }
   ],
   "source": [
    "t=1\n",
    "while t<=10:\n",
    "    print(t)\n",
    "    t+=1\n",
    "    if t==6:\n",
    "        break;"
   ]
  },
  {
   "cell_type": "code",
   "execution_count": null,
   "id": "ea48cb74",
   "metadata": {},
   "outputs": [],
   "source": [
    "u=0\n",
    "while u<10:\n",
    "    u+=1\n",
    "    if(u==5):\n",
    "        continue\n",
    "    print(u)\n",
    "    "
   ]
  },
  {
   "cell_type": "code",
   "execution_count": null,
   "id": "f8ae79a4",
   "metadata": {},
   "outputs": [],
   "source": []
  },
  {
   "cell_type": "code",
   "execution_count": null,
   "id": "22988740",
   "metadata": {},
   "outputs": [],
   "source": []
  },
  {
   "cell_type": "code",
   "execution_count": null,
   "id": "23831b06",
   "metadata": {},
   "outputs": [],
   "source": []
  }
 ],
 "metadata": {
  "kernelspec": {
   "display_name": "Python 3 (ipykernel)",
   "language": "python",
   "name": "python3"
  },
  "language_info": {
   "codemirror_mode": {
    "name": "ipython",
    "version": 3
   },
   "file_extension": ".py",
   "mimetype": "text/x-python",
   "name": "python",
   "nbconvert_exporter": "python",
   "pygments_lexer": "ipython3",
   "version": "3.10.1"
  }
 },
 "nbformat": 4,
 "nbformat_minor": 5
}
